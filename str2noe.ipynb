{
 "cells": [
  {
   "cell_type": "markdown",
   "metadata": {},
   "source": [
    "## Import "
   ]
  },
  {
   "cell_type": "code",
   "execution_count": 8,
   "metadata": {
    "ExecuteTime": {
     "end_time": "2018-07-06T09:58:13.926936Z",
     "start_time": "2018-07-06T09:58:12.941124Z"
    }
   },
   "outputs": [],
   "source": [
    "import pandas as pd\n",
    "import re\n",
    "import mdtraj as md\n",
    "import numpy as np"
   ]
  },
  {
   "cell_type": "markdown",
   "metadata": {},
   "source": [
    "# STR2NOE"
   ]
  },
  {
   "cell_type": "code",
   "execution_count": 7,
   "metadata": {
    "ExecuteTime": {
     "end_time": "2018-07-06T09:58:10.130651Z",
     "start_time": "2018-07-06T09:58:09.877202Z"
    }
   },
   "outputs": [],
   "source": [
    "def parse_str(str_file, skip_HB, eliminate_res):\n",
    "\n",
    "    ''' This function parse de .str file and selects the lines containing NOE \n",
    "    distances information. Then, it creates a dataframe with the NOE distances\n",
    "    set.\n",
    "    \n",
    "    Input: \n",
    "        - str_file(str): name of the .str file\n",
    "        - skip_HB (bool; default = True): skip Hidrogen Bonds\n",
    "        - eliminate_res (list of int): ensemble of residues that doesn't have\n",
    "        to be taken into account for the dataframe.\n",
    "    \n",
    "    Output:\n",
    "    \n",
    "        - df_noes(pandas dataframe): dataframe containing the NOE distances \n",
    "        found in the .str file         \n",
    "    \n",
    "    \n",
    "    '''\n",
    "    \n",
    "    \n",
    "    fic = open(str_file, \"r\")\n",
    "    found = False\n",
    "    lines = []\n",
    "    eliminate = [\"O\", \"N\", \"S\"]\n",
    "    res_start = None\n",
    "\n",
    "    for line in fic:\n",
    "        res_stop = re.match(r'.*stop_.*', line)\n",
    "        if res_start != None:\n",
    "            found = True\n",
    "        elif res_stop != None:\n",
    "            found = False\n",
    "        if found == True:\n",
    "            if line != \"\\n\":\n",
    "                info = line.split()\n",
    "\n",
    "                if info[7] > info[17]:\n",
    "                    r1 = info[17]\n",
    "                    t1 = info[18]\n",
    "                    a1 = info[19]\n",
    "\n",
    "                    info[17] = info[7]\n",
    "                    info[18] = info[8]\n",
    "                    info[19] = info[9]\n",
    "\n",
    "                    info[7] = r1\n",
    "                    info[8] = t1\n",
    "                    info[9] = a1\n",
    "                \n",
    "                if (skip_HB == True):\n",
    "                    if (info[9] not in eliminate and info[19] not in eliminate and \n",
    "                    int(info[7]) not in eliminate_res and int(info[17]) not in eliminate_res):\n",
    "                        lines.append(info)\n",
    "                else:\n",
    "                    if (int(info[7]) not in eliminate_res and int(info[17]) \n",
    "                        not in eliminate_res):\n",
    "                        lines.append(info)\n",
    "                    \n",
    "\n",
    "        res_start = re.match(r'.*_Gen_dist_constraint.Gen_dist_constraint_list_ID.*', line)\n",
    "    fic.close()\n",
    "\n",
    "    df_noes = pd.DataFrame(lines) \n",
    "    df_noes = df_noes[[7,8,9, 17, 18, 19,28]]\n",
    "    df_noes = df_noes.rename(columns={7: \"ResID1\", 8: \"ResType1\", 9: \"Atom1\",\n",
    "                                          17: \"ResID2\", 18: \"ResType2\", 19: \"Atom2\",\n",
    "                                          28: \"Distance\"})\n",
    "\n",
    "    return df_noes"
   ]
  },
  {
   "cell_type": "code",
   "execution_count": 10,
   "metadata": {
    "ExecuteTime": {
     "end_time": "2018-07-06T09:59:45.319070Z",
     "start_time": "2018-07-06T09:59:45.226693Z"
    }
   },
   "outputs": [],
   "source": [
    "def naming(df_noes, res_names, delta_resid, atom_names):\n",
    "    \n",
    "    ''' This function serves to change the naming of the chosen residues or \n",
    "    atoms and eventually its numbering\n",
    "\n",
    "    Input:\n",
    "        - df_noes (pandas dataframe): dataframe containing NOE distances set\n",
    "        - res_names (list of lists): each inner list must contain the old name\n",
    "        of the residue and the new one. For example:\n",
    "        \n",
    "            res_names = [['CYS','CY3'], ['HIS', 'HD1']]\n",
    "        \n",
    "        - delta_resid (int) = variation in the numbering wanted for each residue\n",
    "    \n",
    "        - atom_name (list of list): each inner list must contain the old atom \n",
    "        name and the new one. If the naming change of the atom should be done\n",
    "        in just one residue, the name of the residue should be included. For ex:\n",
    "        \n",
    "            atom_name = [['H', 'HN'], ['MG', 'MG2', 'THR']]\n",
    "            \n",
    "    Output:\n",
    "    \n",
    "        -df_noes (pandas dataframe): modified dataframe\n",
    "    '''\n",
    "    \n",
    "    for residue in res_names:\n",
    "        df_noes.loc[df_noes.ResType1 == residue[0], 'ResType1'] = residue[1]\n",
    "        df_noes.loc[df_noes.ResType2 == residue[0], 'ResType2'] = residue[1]\n",
    "        \n",
    "    for atom in atom_names:\n",
    "        if(len(atom)==2):\n",
    "            df_noes.loc[df_noes.Atom1 == atom[0], 'Atom1'] = atom[1]\n",
    "            df_noes.loc[df_noes.Atom2 == atom[0], 'Atom2'] = atom[1]   \n",
    "        elif(len(atom)==3):\n",
    "            df_noes.loc[(df_noes.Atom1 == atom[0]) & (df_noes.ResType1 == atom[2]),'Atom1'] = atom[1]\n",
    "            df_noes.loc[(df_noes.Atom2 == atom[0]) & (df_noes.ResType2 == atom[2]),'Atom2'] = atom[1]        \n",
    "    \n",
    "    for row in df_noes.itertuples():\n",
    "        df_noes.loc[df_noes.index == row.Index, 'ResID1'] = int(row.ResID1)+delta_resid\n",
    "        df_noes.loc[df_noes.index == row.Index, 'ResID2'] = int(row.ResID2)+delta_resid\n",
    "    \n",
    "    return df_noes"
   ]
  },
  {
   "cell_type": "code",
   "execution_count": 5,
   "metadata": {
    "ExecuteTime": {
     "end_time": "2018-07-06T09:56:31.531246Z",
     "start_time": "2018-07-06T09:56:31.501406Z"
    }
   },
   "outputs": [],
   "source": [
    "def str2noe(str_file, skip_HB = True, eliminate_res = [], change_naming = False,\n",
    "            res_names=[], delta_resid = 0, atom_name=[]):\n",
    "\n",
    "    ''' This function controles STR2NOES scrip. It calls Parse_str() to obtain \n",
    "    NOEs dataframe and Change_naming() if required.\n",
    "    \n",
    "    Input: \n",
    "        - str_file(str): name of the .str file\n",
    "        - skip_HB (bool; default = True): skip Hidrogen Bonds\n",
    "        - eliminate_res (list of int): ensemble of residues that doesn't have\n",
    "        to be taken into account for the dataframe.\n",
    "        - change_naming (bool; default = False): if True, it calls Change_naming()\n",
    "        - df_noes (pandas dataframe): dataframe containing NOE distances set\n",
    "        - res_names (list of lists): each inter list must contain the old name\n",
    "        of the residue and the new one. For example:\n",
    "        \n",
    "            res_names = [['CYS','CY3'], ['HIS', 'HD1']]\n",
    "        \n",
    "        - delta_resid (int) = variation in the numbering wanted for each residue\n",
    "        - atom_name (list of list): each inner list must contain the old atom \n",
    "        name and the new one. If the naming change of the atom should be done\n",
    "        in just one residue, the name of the residue should be included. For ex:\n",
    "        \n",
    "            atom_name = [['H', 'HN'], ['MG', 'MG2', 'THR']] \n",
    " \n",
    " \n",
    "    Output:\n",
    "    \n",
    "        - df_noes(pandas dataframe): dataframe containing the NOE distances \n",
    "        found in the .str file         \n",
    "    \n",
    "    '''\n",
    "    df_noes = parse_str(str_file, skip_HB, eliminate_res)\n",
    "    \n",
    "    if (change_naming):\n",
    "        df_noes = naming(df_noes, res_names, delta_resid, atom_name)\n",
    "    \n",
    "    return df_noes"
   ]
  }
 ],
 "metadata": {
  "kernelspec": {
   "display_name": "Python 3",
   "language": "python",
   "name": "python3"
  },
  "language_info": {
   "codemirror_mode": {
    "name": "ipython",
    "version": 3
   },
   "file_extension": ".py",
   "mimetype": "text/x-python",
   "name": "python",
   "nbconvert_exporter": "python",
   "pygments_lexer": "ipython3",
   "version": "3.5.2"
  },
  "toc": {
   "nav_menu": {},
   "number_sections": true,
   "sideBar": true,
   "skip_h1_title": false,
   "title_cell": "Table of Contents",
   "title_sidebar": "Contents",
   "toc_cell": false,
   "toc_position": {},
   "toc_section_display": true,
   "toc_window_display": false
  }
 },
 "nbformat": 4,
 "nbformat_minor": 2
}
